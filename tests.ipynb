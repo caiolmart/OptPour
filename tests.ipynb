{
 "cells": [
  {
   "cell_type": "code",
   "execution_count": 1,
   "metadata": {
    "collapsed": true
   },
   "outputs": [],
   "source": [
    "import numpy as np\n",
    "import pandas as pd\n",
    "%load_ext autoreload\n",
    "%autoreload 2"
   ]
  },
  {
   "cell_type": "code",
   "execution_count": 9,
   "metadata": {
    "collapsed": false
   },
   "outputs": [],
   "source": [
    "import optpour"
   ]
  },
  {
   "cell_type": "markdown",
   "metadata": {},
   "source": [
    "### Testing get_next_nodes for many initial states"
   ]
  },
  {
   "cell_type": "code",
   "execution_count": 39,
   "metadata": {
    "collapsed": true
   },
   "outputs": [],
   "source": [
    "maxrow = 2\n",
    "maxcol = 2"
   ]
  },
  {
   "cell_type": "code",
   "execution_count": 65,
   "metadata": {
    "collapsed": false
   },
   "outputs": [
    {
     "name": "stdout",
     "output_type": "stream",
     "text": [
      "Passed on test\n"
     ]
    }
   ],
   "source": [
    "expected = [(0, 0)]\n",
    "node = optpour.Node(maxrow, maxcol)\n",
    "if node.get_next_nodes() == expected:\n",
    "    print('Passed on test')\n",
    "else:\n",
    "    print('Did not pass')"
   ]
  },
  {
   "cell_type": "code",
   "execution_count": 66,
   "metadata": {
    "collapsed": false
   },
   "outputs": [
    {
     "name": "stdout",
     "output_type": "stream",
     "text": [
      "Passed on test\n"
     ]
    }
   ],
   "source": [
    "state = ((0, 0),)\n",
    "expected = [((0, 0), (0, 1)), ((0, 0), (1, 0))]\n",
    "node = optpour.Node(maxrow, maxcol, state)\n",
    "if node.get_next_nodes() == expected:\n",
    "    print('Passed on test')\n",
    "else:\n",
    "    print('Did not pass')"
   ]
  },
  {
   "cell_type": "code",
   "execution_count": 67,
   "metadata": {
    "collapsed": false
   },
   "outputs": [
    {
     "name": "stdout",
     "output_type": "stream",
     "text": [
      "Passed on test\n"
     ]
    }
   ],
   "source": [
    "state = ((0, 0), (0, 1))\n",
    "expected = [((0, 0), (0, 1), (1, 0))]\n",
    "node = optpour.Node(maxrow, maxcol, state)\n",
    "if node.get_next_nodes() == expected:\n",
    "    print('Passed on test')\n",
    "else:\n",
    "    print('Did not pass')"
   ]
  },
  {
   "cell_type": "code",
   "execution_count": 68,
   "metadata": {
    "collapsed": false
   },
   "outputs": [
    {
     "name": "stdout",
     "output_type": "stream",
     "text": [
      "Passed on test\n"
     ]
    }
   ],
   "source": [
    "state = ((0, 0), (0, 1), (1, 1))\n",
    "expected = [((0, 0), (0, 1), (1, 0), (1, 1))]\n",
    "node = optpour.Node(maxrow, maxcol, state)\n",
    "if node.get_next_nodes() == expected:\n",
    "    print('Passed on test')\n",
    "else:\n",
    "    print('Did not pass')"
   ]
  },
  {
   "cell_type": "code",
   "execution_count": 69,
   "metadata": {
    "collapsed": false
   },
   "outputs": [
    {
     "name": "stdout",
     "output_type": "stream",
     "text": [
      "Passed on test\n"
     ]
    }
   ],
   "source": [
    "state = ((0, 0), (0, 1), (1, 0), (1, 1))\n",
    "expected = []\n",
    "node = optpour.Node(maxrow, maxcol, state)\n",
    "if node.get_next_nodes() == expected:\n",
    "    print('Passed on test')\n",
    "else:\n",
    "    print('Did not pass')"
   ]
  },
  {
   "cell_type": "code",
   "execution_count": null,
   "metadata": {
    "collapsed": true
   },
   "outputs": [],
   "source": []
  }
 ],
 "metadata": {
  "kernelspec": {
   "display_name": "Python 3",
   "language": "python",
   "name": "python3"
  },
  "language_info": {
   "codemirror_mode": {
    "name": "ipython",
    "version": 3
   },
   "file_extension": ".py",
   "mimetype": "text/x-python",
   "name": "python",
   "nbconvert_exporter": "python",
   "pygments_lexer": "ipython3",
   "version": "3.6.3"
  }
 },
 "nbformat": 4,
 "nbformat_minor": 2
}
