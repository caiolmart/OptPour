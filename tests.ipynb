{
 "cells": [
  {
   "cell_type": "code",
   "execution_count": 1,
   "metadata": {
    "collapsed": true
   },
   "outputs": [],
   "source": [
    "import numpy as np\n",
    "import pandas as pd\n",
    "%load_ext autoreload\n",
    "%autoreload 2"
   ]
  },
  {
   "cell_type": "code",
   "execution_count": 9,
   "metadata": {
    "collapsed": false
   },
   "outputs": [],
   "source": [
    "import optpour"
   ]
  },
  {
   "cell_type": "code",
   "execution_count": 139,
   "metadata": {
    "collapsed": true
   },
   "outputs": [],
   "source": [
    "import matplotlib.pyplot as plt\n",
    "import seaborn as sns\n",
    "%matplotlib inline"
   ]
  },
  {
   "cell_type": "markdown",
   "metadata": {},
   "source": [
    "### Testing get_next_nodes for many initial states"
   ]
  },
  {
   "cell_type": "code",
   "execution_count": 76,
   "metadata": {
    "collapsed": true
   },
   "outputs": [],
   "source": [
    "maxrow = 2\n",
    "maxcol = 2"
   ]
  },
  {
   "cell_type": "code",
   "execution_count": null,
   "metadata": {
    "collapsed": false
   },
   "outputs": [],
   "source": [
    "expected = [(0, 0)]\n",
    "node = optpour.Node(maxrow, maxcol)\n",
    "if node.get_next_nodes() == expected:\n",
    "    print('Passed on test')\n",
    "else:\n",
    "    print('Did not pass')"
   ]
  },
  {
   "cell_type": "code",
   "execution_count": null,
   "metadata": {
    "collapsed": false
   },
   "outputs": [],
   "source": [
    "state = ((0, 0),)\n",
    "expected = [((0, 0), (0, 1)), ((0, 0), (1, 0))]\n",
    "node = optpour.Node(maxrow, maxcol, state)\n",
    "if node.get_next_nodes() == expected:\n",
    "    print('Passed on test')\n",
    "else:\n",
    "    print('Did not pass')"
   ]
  },
  {
   "cell_type": "code",
   "execution_count": null,
   "metadata": {
    "collapsed": false
   },
   "outputs": [],
   "source": [
    "state = ((0, 0), (0, 1))\n",
    "expected = [((0, 0), (0, 1), (1, 0))]\n",
    "node = optpour.Node(maxrow, maxcol, state)\n",
    "if node.get_next_nodes() == expected:\n",
    "    print('Passed on test')\n",
    "else:\n",
    "    print('Did not pass')"
   ]
  },
  {
   "cell_type": "code",
   "execution_count": null,
   "metadata": {
    "collapsed": false
   },
   "outputs": [],
   "source": [
    "state = ((0, 0), (0, 1), (1, 0))\n",
    "expected = [((0, 0), (0, 1), (1, 0), (1, 1))]\n",
    "node = optpour.Node(maxrow, maxcol, state)\n",
    "if node.get_next_nodes() == expected:\n",
    "    print('Passed on test')\n",
    "else:\n",
    "    print('Did not pass')"
   ]
  },
  {
   "cell_type": "code",
   "execution_count": null,
   "metadata": {
    "collapsed": false
   },
   "outputs": [],
   "source": [
    "state = ((0, 0), (0, 1), (1, 0), (1, 1))\n",
    "expected = []\n",
    "node = optpour.Node(maxrow, maxcol, state)\n",
    "if node.get_next_nodes() == expected:\n",
    "    print('Passed on test')\n",
    "else:\n",
    "    print('Did not pass')"
   ]
  },
  {
   "cell_type": "markdown",
   "metadata": {},
   "source": [
    "## Testing order of possible sons"
   ]
  },
  {
   "cell_type": "code",
   "execution_count": 131,
   "metadata": {
    "collapsed": true
   },
   "outputs": [],
   "source": [
    "node = optpour.Node(2, 2)"
   ]
  },
  {
   "cell_type": "code",
   "execution_count": 132,
   "metadata": {
    "collapsed": false
   },
   "outputs": [
    {
     "data": {
      "text/plain": [
       "{((0, 0),),\n",
       " ((0, 0), (0, 1)),\n",
       " ((0, 0), (0, 1), (1, 0)),\n",
       " ((0, 0), (0, 1), (1, 0), (1, 1)),\n",
       " ((0, 0), (1, 0))}"
      ]
     },
     "execution_count": 132,
     "metadata": {},
     "output_type": "execute_result"
    }
   ],
   "source": [
    "node.get_all_children()"
   ]
  },
  {
   "cell_type": "code",
   "execution_count": 133,
   "metadata": {
    "collapsed": true
   },
   "outputs": [],
   "source": [
    "node = optpour.Node(3, 3)"
   ]
  },
  {
   "cell_type": "code",
   "execution_count": 134,
   "metadata": {
    "collapsed": false
   },
   "outputs": [
    {
     "data": {
      "text/plain": [
       "{((0, 0),),\n",
       " ((0, 0), (0, 1)),\n",
       " ((0, 0), (0, 1), (0, 2)),\n",
       " ((0, 0), (0, 1), (0, 2), (1, 0)),\n",
       " ((0, 0), (0, 1), (0, 2), (1, 0), (1, 1)),\n",
       " ((0, 0), (0, 1), (0, 2), (1, 0), (1, 1), (1, 2)),\n",
       " ((0, 0), (0, 1), (0, 2), (1, 0), (1, 1), (1, 2), (2, 0)),\n",
       " ((0, 0), (0, 1), (0, 2), (1, 0), (1, 1), (1, 2), (2, 0), (2, 1)),\n",
       " ((0, 0), (0, 1), (0, 2), (1, 0), (1, 1), (1, 2), (2, 0), (2, 1), (2, 2)),\n",
       " ((0, 0), (0, 1), (0, 2), (1, 0), (1, 1), (2, 0)),\n",
       " ((0, 0), (0, 1), (0, 2), (1, 0), (1, 1), (2, 0), (2, 1)),\n",
       " ((0, 0), (0, 1), (0, 2), (1, 0), (2, 0)),\n",
       " ((0, 0), (0, 1), (1, 0)),\n",
       " ((0, 0), (0, 1), (1, 0), (1, 1)),\n",
       " ((0, 0), (0, 1), (1, 0), (1, 1), (2, 0)),\n",
       " ((0, 0), (0, 1), (1, 0), (1, 1), (2, 0), (2, 1)),\n",
       " ((0, 0), (0, 1), (1, 0), (2, 0)),\n",
       " ((0, 0), (1, 0)),\n",
       " ((0, 0), (1, 0), (2, 0))}"
      ]
     },
     "execution_count": 134,
     "metadata": {},
     "output_type": "execute_result"
    }
   ],
   "source": [
    "node.get_all_children()"
   ]
  },
  {
   "cell_type": "code",
   "execution_count": 135,
   "metadata": {
    "collapsed": false
   },
   "outputs": [
    {
     "data": {
      "text/plain": [
       "19"
      ]
     },
     "execution_count": 135,
     "metadata": {},
     "output_type": "execute_result"
    }
   ],
   "source": [
    "len(node.get_all_children())"
   ]
  },
  {
   "cell_type": "code",
   "execution_count": 146,
   "metadata": {
    "collapsed": false
   },
   "outputs": [
    {
     "name": "stdout",
     "output_type": "stream",
     "text": [
      "2 cases inside the restriction over 2 cases\n",
      "6 cases inside the restriction over 16 cases\n",
      "20 cases inside the restriction over 512 cases\n",
      "70 cases inside the restriction over 65536 cases\n",
      "252 cases inside the restriction over 33554432 cases\n",
      "924 cases inside the restriction over 68719476736 cases\n",
      "3432 cases inside the restriction over 562949953421312 cases\n",
      "12870 cases inside the restriction over 18446744073709551616 cases\n",
      "48620 cases inside the restriction over 2417851639229258349412352 cases\n",
      "184756 cases inside the restriction over 1267650600228229401496703205376 cases\n"
     ]
    }
   ],
   "source": [
    "lens = []\n",
    "for l in range(1, 11):\n",
    "    node = optpour.Node(l, l)\n",
    "    lens.append(len(node.get_all_children()))\n",
    "    print(f'{lens[-1] + 1} cases inside the restriction over {2 ** (l * l)} cases')"
   ]
  }
 ],
 "metadata": {
  "kernelspec": {
   "display_name": "Python 3",
   "language": "python",
   "name": "python3"
  },
  "language_info": {
   "codemirror_mode": {
    "name": "ipython",
    "version": 3
   },
   "file_extension": ".py",
   "mimetype": "text/x-python",
   "name": "python",
   "nbconvert_exporter": "python",
   "pygments_lexer": "ipython3",
   "version": "3.6.3"
  }
 },
 "nbformat": 4,
 "nbformat_minor": 2
}
