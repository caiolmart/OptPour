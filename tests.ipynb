{
 "cells": [
  {
   "cell_type": "code",
   "execution_count": 1,
   "metadata": {
    "collapsed": true
   },
   "outputs": [],
   "source": [
    "import numpy as np\n",
    "import pandas as pd\n",
    "%load_ext autoreload\n",
    "%autoreload 2"
   ]
  },
  {
   "cell_type": "code",
   "execution_count": 2,
   "metadata": {
    "collapsed": false
   },
   "outputs": [],
   "source": [
    "import optpour"
   ]
  },
  {
   "cell_type": "code",
   "execution_count": 3,
   "metadata": {
    "collapsed": true
   },
   "outputs": [],
   "source": [
    "import matplotlib.pyplot as plt\n",
    "import seaborn as sns\n",
    "%matplotlib inline"
   ]
  },
  {
   "cell_type": "markdown",
   "metadata": {},
   "source": [
    "### Testing get_next_nodes for many initial states"
   ]
  },
  {
   "cell_type": "code",
   "execution_count": 4,
   "metadata": {
    "collapsed": true
   },
   "outputs": [],
   "source": [
    "maxrow = 2\n",
    "maxcol = 2"
   ]
  },
  {
   "cell_type": "code",
   "execution_count": 5,
   "metadata": {
    "collapsed": false
   },
   "outputs": [
    {
     "name": "stdout",
     "output_type": "stream",
     "text": [
      "Passed on test\n"
     ]
    }
   ],
   "source": [
    "expected = [((0, 0), )]\n",
    "node = optpour.Node(maxrow, maxcol)\n",
    "if node.get_next_nodes() == expected:\n",
    "    print('Passed on test')\n",
    "else:\n",
    "    print('Did not pass')"
   ]
  },
  {
   "cell_type": "code",
   "execution_count": 6,
   "metadata": {
    "collapsed": false
   },
   "outputs": [
    {
     "name": "stdout",
     "output_type": "stream",
     "text": [
      "Passed on test\n"
     ]
    }
   ],
   "source": [
    "state = ((0, 0),)\n",
    "expected = [((0, 0), (0, 1)), ((0, 0), (1, 0))]\n",
    "node = optpour.Node(maxrow, maxcol, state)\n",
    "if node.get_next_nodes() == expected:\n",
    "    print('Passed on test')\n",
    "else:\n",
    "    print('Did not pass')"
   ]
  },
  {
   "cell_type": "code",
   "execution_count": 7,
   "metadata": {
    "collapsed": false
   },
   "outputs": [
    {
     "name": "stdout",
     "output_type": "stream",
     "text": [
      "Passed on test\n"
     ]
    }
   ],
   "source": [
    "state = ((0, 0), (0, 1))\n",
    "expected = [((0, 0), (0, 1), (1, 0))]\n",
    "node = optpour.Node(maxrow, maxcol, state)\n",
    "if node.get_next_nodes() == expected:\n",
    "    print('Passed on test')\n",
    "else:\n",
    "    print('Did not pass')"
   ]
  },
  {
   "cell_type": "code",
   "execution_count": 8,
   "metadata": {
    "collapsed": false
   },
   "outputs": [
    {
     "name": "stdout",
     "output_type": "stream",
     "text": [
      "Passed on test\n"
     ]
    }
   ],
   "source": [
    "state = ((0, 0), (0, 1), (1, 0))\n",
    "expected = [((0, 0), (0, 1), (1, 0), (1, 1))]\n",
    "node = optpour.Node(maxrow, maxcol, state)\n",
    "if node.get_next_nodes() == expected:\n",
    "    print('Passed on test')\n",
    "else:\n",
    "    print('Did not pass')"
   ]
  },
  {
   "cell_type": "code",
   "execution_count": 9,
   "metadata": {
    "collapsed": false
   },
   "outputs": [
    {
     "name": "stdout",
     "output_type": "stream",
     "text": [
      "Passed on test\n"
     ]
    }
   ],
   "source": [
    "state = ((0, 0), (0, 1), (1, 0), (1, 1))\n",
    "expected = []\n",
    "node = optpour.Node(maxrow, maxcol, state)\n",
    "if node.get_next_nodes() == expected:\n",
    "    print('Passed on test')\n",
    "else:\n",
    "    print('Did not pass')"
   ]
  },
  {
   "cell_type": "markdown",
   "metadata": {},
   "source": [
    "## Evaluating order of possible sons"
   ]
  },
  {
   "cell_type": "code",
   "execution_count": 10,
   "metadata": {
    "collapsed": true
   },
   "outputs": [],
   "source": [
    "node = optpour.Node(2, 2)"
   ]
  },
  {
   "cell_type": "code",
   "execution_count": 11,
   "metadata": {
    "collapsed": false
   },
   "outputs": [
    {
     "data": {
      "text/plain": [
       "{((0, 0),),\n",
       " ((0, 0), (0, 1)),\n",
       " ((0, 0), (0, 1), (1, 0)),\n",
       " ((0, 0), (0, 1), (1, 0), (1, 1)),\n",
       " ((0, 0), (1, 0))}"
      ]
     },
     "execution_count": 11,
     "metadata": {},
     "output_type": "execute_result"
    }
   ],
   "source": [
    "node.get_all_children()"
   ]
  },
  {
   "cell_type": "code",
   "execution_count": 12,
   "metadata": {
    "collapsed": true
   },
   "outputs": [],
   "source": [
    "node = optpour.Node(3, 3)"
   ]
  },
  {
   "cell_type": "code",
   "execution_count": 13,
   "metadata": {
    "collapsed": false
   },
   "outputs": [
    {
     "data": {
      "text/plain": [
       "{((0, 0),),\n",
       " ((0, 0), (0, 1)),\n",
       " ((0, 0), (0, 1), (0, 2)),\n",
       " ((0, 0), (0, 1), (0, 2), (1, 0)),\n",
       " ((0, 0), (0, 1), (0, 2), (1, 0), (1, 1)),\n",
       " ((0, 0), (0, 1), (0, 2), (1, 0), (1, 1), (1, 2)),\n",
       " ((0, 0), (0, 1), (0, 2), (1, 0), (1, 1), (1, 2), (2, 0)),\n",
       " ((0, 0), (0, 1), (0, 2), (1, 0), (1, 1), (1, 2), (2, 0), (2, 1)),\n",
       " ((0, 0), (0, 1), (0, 2), (1, 0), (1, 1), (1, 2), (2, 0), (2, 1), (2, 2)),\n",
       " ((0, 0), (0, 1), (0, 2), (1, 0), (1, 1), (2, 0)),\n",
       " ((0, 0), (0, 1), (0, 2), (1, 0), (1, 1), (2, 0), (2, 1)),\n",
       " ((0, 0), (0, 1), (0, 2), (1, 0), (2, 0)),\n",
       " ((0, 0), (0, 1), (1, 0)),\n",
       " ((0, 0), (0, 1), (1, 0), (1, 1)),\n",
       " ((0, 0), (0, 1), (1, 0), (1, 1), (2, 0)),\n",
       " ((0, 0), (0, 1), (1, 0), (1, 1), (2, 0), (2, 1)),\n",
       " ((0, 0), (0, 1), (1, 0), (2, 0)),\n",
       " ((0, 0), (1, 0)),\n",
       " ((0, 0), (1, 0), (2, 0))}"
      ]
     },
     "execution_count": 13,
     "metadata": {},
     "output_type": "execute_result"
    }
   ],
   "source": [
    "node.get_all_children()"
   ]
  },
  {
   "cell_type": "code",
   "execution_count": 14,
   "metadata": {
    "collapsed": false
   },
   "outputs": [
    {
     "data": {
      "text/plain": [
       "19"
      ]
     },
     "execution_count": 14,
     "metadata": {},
     "output_type": "execute_result"
    }
   ],
   "source": [
    "len(node.get_all_children())"
   ]
  },
  {
   "cell_type": "code",
   "execution_count": 15,
   "metadata": {
    "collapsed": false
   },
   "outputs": [
    {
     "name": "stdout",
     "output_type": "stream",
     "text": [
      "2 cases inside the constraint over 2 cases\n",
      "6 cases inside the constraint over 16 cases\n",
      "20 cases inside the constraint over 512 cases\n",
      "70 cases inside the constraint over 65536 cases\n",
      "252 cases inside the constraint over 33554432 cases\n",
      "924 cases inside the constraint over 68719476736 cases\n",
      "3432 cases inside the constraint over 562949953421312 cases\n",
      "12870 cases inside the constraint over 18446744073709551616 cases\n",
      "48620 cases inside the constraint over 2417851639229258349412352 cases\n",
      "184756 cases inside the constraint over 1267650600228229401496703205376 cases\n"
     ]
    }
   ],
   "source": [
    "lens = []\n",
    "for l in range(1, 11):\n",
    "    node = optpour.Node(l, l)\n",
    "    lens.append(len(node.get_all_children()))\n",
    "    print(f'{lens[-1] + 1} cases inside the constraint over {2 ** (l * l)} cases')"
   ]
  },
  {
   "cell_type": "code",
   "execution_count": 16,
   "metadata": {
    "collapsed": false
   },
   "outputs": [
    {
     "data": {
      "text/plain": [
       "<matplotlib.legend.Legend at 0x7fa1d4c58588>"
      ]
     },
     "execution_count": 16,
     "metadata": {},
     "output_type": "execute_result"
    },
    {
     "data": {
      "image/png": "[encoded data removed]",
      "text/plain": [
       "<Figure size 864x540 with 1 Axes>"
      ]
     },
     "metadata": {
      "needs_background": "light"
     },
     "output_type": "display_data"
    }
   ],
   "source": [
    "plt.figure(figsize=(12, 7.5))\n",
    "plt.title('Number of cases in a square box')\n",
    "plt.plot(range(1, 11), lens, label='Constrained')\n",
    "plt.plot(range(1, 11), [2 ** (l * l) for l in range(1, 11)], label='Unconstrained')\n",
    "plt.ylabel('# Cases')\n",
    "plt.xlabel('Side Size')\n",
    "plt.yscale('log')\n",
    "plt.legend()"
   ]
  },
  {
   "cell_type": "markdown",
   "metadata": {},
   "source": [
    "## Testing eval functions"
   ]
  },
  {
   "cell_type": "code",
   "execution_count": 17,
   "metadata": {
    "collapsed": false
   },
   "outputs": [
    {
     "data": {
      "text/plain": [
       "array([[1000,  500,  600],\n",
       "       [ 400,  300,  400],\n",
       "       [1000,  300,  600]])"
      ]
     },
     "execution_count": 17,
     "metadata": {},
     "output_type": "execute_result"
    }
   ],
   "source": [
    "qtt_array = np.array(\n",
    "    [[1000, 500, 600],\n",
    "     [400, 300, 400],\n",
    "     [1000, 300, 600]]\n",
    ")\n",
    "qtt_array"
   ]
  },
  {
   "cell_type": "code",
   "execution_count": 18,
   "metadata": {
    "collapsed": false
   },
   "outputs": [
    {
     "data": {
      "text/plain": [
       "array([[   0,   10,   50],\n",
       "       [  10,  300,  400],\n",
       "       [1000,  300,  600]])"
      ]
     },
     "execution_count": 18,
     "metadata": {},
     "output_type": "execute_result"
    }
   ],
   "source": [
    "bad_array = np.array(\n",
    "    [[0, 10, 50],\n",
    "     [10, 300, 400],\n",
    "     [1000, 300, 600]]\n",
    ")\n",
    "bad_array"
   ]
  },
  {
   "cell_type": "code",
   "execution_count": 19,
   "metadata": {
    "collapsed": true
   },
   "outputs": [],
   "source": [
    "node = optpour.Node(3, 3)"
   ]
  },
  {
   "cell_type": "code",
   "execution_count": 20,
   "metadata": {
    "collapsed": false
   },
   "outputs": [
    {
     "data": {
      "text/plain": [
       "[((0, 0),)]"
      ]
     },
     "execution_count": 20,
     "metadata": {},
     "output_type": "execute_result"
    }
   ],
   "source": [
    "node.get_next_nodes()"
   ]
  },
  {
   "cell_type": "code",
   "execution_count": 21,
   "metadata": {
    "collapsed": false
   },
   "outputs": [
    {
     "name": "stdout",
     "output_type": "stream",
     "text": [
      "Passed on test\n"
     ]
    }
   ],
   "source": [
    "state = node.get_next_nodes()[0]\n",
    "expected = np.array(\n",
    "    [[ True, False, False],\n",
    "     [False, False, False],\n",
    "     [False, False, False]])\n",
    "state_array = node.array_from_state(state)\n",
    "if np.array_equal(state_array, expected):\n",
    "    print('Passed on test')\n",
    "else:\n",
    "    print('Did not pass')"
   ]
  },
  {
   "cell_type": "code",
   "execution_count": 22,
   "metadata": {
    "collapsed": false
   },
   "outputs": [
    {
     "name": "stdout",
     "output_type": "stream",
     "text": [
      "Passed on test\n"
     ]
    }
   ],
   "source": [
    "expected = 1000\n",
    "qtt = node.eval_qtt(state, qtt_array)\n",
    "if qtt == expected:\n",
    "    print('Passed on test')\n",
    "else:\n",
    "    print('Did not pass')"
   ]
  },
  {
   "cell_type": "code",
   "execution_count": 23,
   "metadata": {
    "collapsed": false
   },
   "outputs": [
    {
     "name": "stdout",
     "output_type": "stream",
     "text": [
      "Passed on test\n"
     ]
    }
   ],
   "source": [
    "expected = 0\n",
    "br = node.eval_br(state, qtt_array, bad_array)\n",
    "if br == expected:\n",
    "    print('Passed on test')\n",
    "else:\n",
    "    print('Did not pass')"
   ]
  },
  {
   "cell_type": "code",
   "execution_count": 24,
   "metadata": {
    "collapsed": true
   },
   "outputs": [],
   "source": [
    "state = ((0, 0), (0, 1), (1, 0))"
   ]
  },
  {
   "cell_type": "code",
   "execution_count": 25,
   "metadata": {
    "collapsed": false
   },
   "outputs": [
    {
     "name": "stdout",
     "output_type": "stream",
     "text": [
      "Passed on test\n"
     ]
    }
   ],
   "source": [
    "expected = 1900\n",
    "qtt = node.eval_qtt(state, qtt_array)\n",
    "if qtt == expected:\n",
    "    print('Passed on test')\n",
    "else:\n",
    "    print('Did not pass')"
   ]
  },
  {
   "cell_type": "code",
   "execution_count": 26,
   "metadata": {
    "collapsed": false,
    "scrolled": false
   },
   "outputs": [
    {
     "data": {
      "text/plain": [
       "0.010526315789473684"
      ]
     },
     "execution_count": 26,
     "metadata": {},
     "output_type": "execute_result"
    }
   ],
   "source": [
    "20 / 1900"
   ]
  },
  {
   "cell_type": "code",
   "execution_count": 27,
   "metadata": {
    "collapsed": false
   },
   "outputs": [
    {
     "name": "stdout",
     "output_type": "stream",
     "text": [
      "Passed on test\n"
     ]
    }
   ],
   "source": [
    "expected = 20 / 1900\n",
    "br = node.eval_br(state, qtt_array, bad_array)\n",
    "if br == expected:\n",
    "    print('Passed on test')\n",
    "else:\n",
    "    print('Did not pass')"
   ]
  },
  {
   "cell_type": "markdown",
   "metadata": {},
   "source": [
    "## Testing optimization"
   ]
  },
  {
   "cell_type": "code",
   "execution_count": 28,
   "metadata": {
    "collapsed": false
   },
   "outputs": [
    {
     "name": "stdout",
     "output_type": "stream",
     "text": [
      "Passed on test\n"
     ]
    }
   ],
   "source": [
    "expected_best = ((0, 0), (0, 1))\n",
    "sorted_candidates = node.optimize_naive(qtt_array, bad_array, 0.01)\n",
    "if sorted_candidates[0][0] == expected_best:\n",
    "    print('Passed on test')\n",
    "else:\n",
    "    print('Did not pass')"
   ]
  },
  {
   "cell_type": "code",
   "execution_count": 29,
   "metadata": {
    "collapsed": false
   },
   "outputs": [
    {
     "name": "stdout",
     "output_type": "stream",
     "text": [
      "Passed on test\n"
     ]
    }
   ],
   "source": [
    "if len(sorted_candidates) == 3:\n",
    "    print('Passed on test')\n",
    "else:\n",
    "    print('Did not pass')"
   ]
  },
  {
   "cell_type": "code",
   "execution_count": 30,
   "metadata": {
    "collapsed": false
   },
   "outputs": [
    {
     "data": {
      "text/plain": [
       "[(((0, 0), (0, 1)), (1, 1500, 0.006666666666666667)),\n",
       " (((0, 0), (1, 0)), (1, 1400, 0.007142857142857143)),\n",
       " (((0, 0),), (1, 1000, 0.0))]"
      ]
     },
     "execution_count": 30,
     "metadata": {},
     "output_type": "execute_result"
    }
   ],
   "source": [
    "sorted_candidates"
   ]
  }
 ],
 "metadata": {
  "kernelspec": {
   "display_name": "Python 3",
   "language": "python",
   "name": "python3"
  },
  "language_info": {
   "codemirror_mode": {
    "name": "ipython",
    "version": 3
   },
   "file_extension": ".py",
   "mimetype": "text/x-python",
   "name": "python",
   "nbconvert_exporter": "python",
   "pygments_lexer": "ipython3",
   "version": "3.6.3"
  }
 },
 "nbformat": 4,
 "nbformat_minor": 2
}
